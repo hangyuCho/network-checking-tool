{
 "cells": [
  {
   "cell_type": "code",
   "execution_count": null,
   "metadata": {},
   "outputs": [],
   "source": [
    "tcp = '0c8ddb6d3c33d45763e997f90800450000340000400040067df70ab522a068122766c32f01bba1d8b964565b9c4f801007ff0f6400000101080adb83ef4aedc4d726'"
   ]
  }
 ],
 "metadata": {
  "kernelspec": {
   "display_name": "Python 3",
   "language": "python",
   "name": "python3"
  },
  "language_info": {
   "name": "python",
   "version": "3.11.6"
  }
 },
 "nbformat": 4,
 "nbformat_minor": 2
}
